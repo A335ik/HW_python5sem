{
  "cells": [
    {
      "cell_type": "markdown",
      "source": [
        "1. Доработайте класс комплексного числа из прошлого\n",
        "занятия: переопределите математические\n",
        "операторы (__+, -, /, *, ==__), так, чтобы они\n",
        "работали с другими комплексными и со стандартными\n",
        "числами. Добейтесь правильной работы с комплексным\n",
        "числом функций `print()`, `abs()`, а также\n",
        "реализуйте `getter` и `setter`\n",
        "с использованием декоратора `@property`. Добавьте\n",
        "выбросы исключений при некорректном использовании\n",
        "вашего числа, например: выбросом `ValueError` при вводе\n",
        "некорректных значений в `setter` класса, выбросом своего исключения в\n",
        "случае попытки перевода в экспоненциальную\n",
        "форму, когда это невозможно. Поверх напишите программу\n",
        "калькулятор, принимающую у пользователя два комплексных\n",
        "числа и проводящую с ними арифметические операции на\n",
        "выбор пользователя. Калькулятор должен уметь ловить и\n",
        "обрабатывать исключения, не роняя программу,\n",
        "а объясняя пользователю, что пошло не так."
      ],
      "metadata": {
        "id": "FEOWFsUVXI2X"
      }
    },
    {
      "cell_type": "code",
      "source": [
        "import math\n",
        "class Complex:\n",
        "\n",
        "    def __init__(self, a, b):\n",
        "        self.a = a\n",
        "        self.b = b\n",
        "\n",
        "    def __repr__(self):\n",
        "        if self.b == 0:\n",
        "            return str(self.a)\n",
        "        elif self.a == 0 and self.b != 0:\n",
        "            if self.b == 1:\n",
        "                return 'i'\n",
        "            else:\n",
        "                return str(self.b) + 'i'\n",
        "        else:\n",
        "            if self.b == 1:\n",
        "                return str(self.a) + ' + i'\n",
        "            else:\n",
        "                return str(self.a) + ' + ' + str(self.b) + 'i'\n",
        "\n",
        "    @property\n",
        "    def real(self):\n",
        "        return self.a\n",
        "\n",
        "    @real.setter\n",
        "    def real(self, value):\n",
        "        if not isinstance(value, (int, float)):\n",
        "            raise ValueError(\"Должно быть числом (int или float)\")\n",
        "        self.a = value\n",
        "\n",
        "    @property\n",
        "    def imag(self):\n",
        "        return self.b\n",
        "\n",
        "    @imag.setter\n",
        "    def imag(self, value):\n",
        "        if not isinstance(value, (int, float)):\n",
        "            raise ValueError(\"Должно быть числом (int или float)\")\n",
        "        self.b = value\n",
        "\n",
        "\n",
        "    def __add__(self, other):\n",
        "        if isinstance(other, Complex):\n",
        "            return Complex(self.a + other.a, self.b + other.b)\n",
        "        if isinstance(other, (int, float)):\n",
        "            return Complex(self.a + other, self.b)\n",
        "        raise NotImplementedError\n",
        "\n",
        "    def __sub__(self, other):\n",
        "        if isinstance(other, Complex):\n",
        "            return Complex(self.a - other.a, self.b - other.b)\n",
        "        if isinstance(other, (int, float)):\n",
        "            return Complex(self.a - other, self.b)\n",
        "        raise NotImplementedError\n",
        "\n",
        "    def __mul__(self, other):\n",
        "        if isinstance(other, Complex):\n",
        "            return Complex(self.a*other.a - self.b*other.b, self.a*other.b + self.b*other.a)\n",
        "        if isinstance(other, (int, float)):\n",
        "            return Complex(self.a*other, self.b*other)\n",
        "        raise NotImplementedError\n",
        "\n",
        "    def __truediv__(self, other):\n",
        "        if isinstance(other, Complex):\n",
        "            return Complex((self.a*other.a + self.b*other.b)/(other.a**2 + other.b**2), (self.b*other.a - self.a*other.b)/(other.a**2 + other.b**2))\n",
        "        if isinstance(other, (int, float)):\n",
        "            return Complex(self.a/other, self.b/other)\n",
        "        raise NotImplementedError\n",
        "\n",
        "\n",
        "    def __abs__(self):\n",
        "        return sqrt(self.a**2 + self.b**2)\n",
        "\n",
        "\n",
        "    def toexp(self): #всегда можно представить\n",
        "        if self.b != 0:\n",
        "            return (str(math.sqrt(self.a**2+self.b**2))+'e^'+str(math.atan(self.b/self.a)))\n",
        "        elif self.a>0:\n",
        "            return (str(abs(self.a))+'e^0')\n",
        "        else:\n",
        "            return (str(abs(self.a))+'e^'+str(math.pi))\n",
        "        raise NotImplementedError"
      ],
      "metadata": {
        "id": "FlN3tuEmBJSu"
      },
      "execution_count": null,
      "outputs": []
    },
    {
      "cell_type": "code",
      "source": [
        "a = Complex(1, 2)\n",
        "b = Complex(2, 1)\n",
        "real = Complex(5, 0)"
      ],
      "metadata": {
        "colab": {
          "base_uri": "https://localhost:8080/"
        },
        "id": "yvZq3LLRZS-6",
        "outputId": "24408f87-3e85-45d8-b848-06c6b43adbe5"
      },
      "execution_count": null,
      "outputs": [
        {
          "output_type": "stream",
          "name": "stdout",
          "text": [
            "1 + 2i 2 + i 5\n"
          ]
        }
      ]
    },
    {
      "cell_type": "code",
      "source": [
        "a, b, real"
      ],
      "metadata": {
        "colab": {
          "base_uri": "https://localhost:8080/"
        },
        "id": "R-l6R17uZcp7",
        "outputId": "ef1f7efb-9321-4a58-ecf8-6cbea7112b22"
      },
      "execution_count": null,
      "outputs": [
        {
          "output_type": "execute_result",
          "data": {
            "text/plain": [
              "(1 + 2i, 2 + i)"
            ]
          },
          "metadata": {},
          "execution_count": 128
        }
      ]
    },
    {
      "cell_type": "code",
      "source": [
        "a + b, a - b, a * b, a / b"
      ],
      "metadata": {
        "colab": {
          "base_uri": "https://localhost:8080/"
        },
        "id": "0ICwfcsoZyQM",
        "outputId": "32817d79-1ad1-4e9e-a989-25c6c0b67021"
      },
      "execution_count": null,
      "outputs": [
        {
          "output_type": "execute_result",
          "data": {
            "text/plain": [
              "(3 + 3i, -1 + i, 5i, 0.8 + 0.6i)"
            ]
          },
          "metadata": {},
          "execution_count": 129
        }
      ]
    },
    {
      "cell_type": "code",
      "source": [
        "abs(a), abs(b)"
      ],
      "metadata": {
        "colab": {
          "base_uri": "https://localhost:8080/"
        },
        "id": "s439P8sjZ0Zf",
        "outputId": "38836d1e-3e73-4b40-e8d7-6d3170e59e31"
      },
      "execution_count": null,
      "outputs": [
        {
          "output_type": "execute_result",
          "data": {
            "text/plain": [
              "(2.23606797749979, 2.23606797749979)"
            ]
          },
          "metadata": {},
          "execution_count": 130
        }
      ]
    },
    {
      "cell_type": "code",
      "source": [
        "a.real"
      ],
      "metadata": {
        "colab": {
          "base_uri": "https://localhost:8080/"
        },
        "id": "EMsFjXXTZ3Md",
        "outputId": "daeb5272-fdd7-4300-d27a-9e49ac97545d"
      },
      "execution_count": null,
      "outputs": [
        {
          "output_type": "execute_result",
          "data": {
            "text/plain": [
              "1"
            ]
          },
          "metadata": {},
          "execution_count": 131
        }
      ]
    },
    {
      "cell_type": "code",
      "source": [
        "a.real = 3\n",
        "print(a)"
      ],
      "metadata": {
        "colab": {
          "base_uri": "https://localhost:8080/"
        },
        "id": "kE1If3DRZ6rH",
        "outputId": "8bbc9f21-d1cb-43b0-e957-456f78fba0aa"
      },
      "execution_count": null,
      "outputs": [
        {
          "output_type": "stream",
          "name": "stdout",
          "text": [
            "3 + 2i\n"
          ]
        }
      ]
    },
    {
      "cell_type": "code",
      "source": [
        "\n",
        "def get_complex_input(part):\n",
        "    while True:\n",
        "        try:\n",
        "            value = float(input(f\"Введите {part} часть (например, 1.0): \"))\n",
        "            return value\n",
        "        except ValueError:\n",
        "            print(f\"Ошибка: Введите корректное число для {part} части.\")\n",
        "\n",
        "def calculator():\n",
        "    print(\"Комплексный калькулятор\")\n",
        "\n",
        "    # Запрос действительной и мнимой частей для первого числа\n",
        "    real1 = get_complex_input(\"действительную первую\")\n",
        "    imag1 = get_complex_input(\"мнимую первую\")\n",
        "    num1 = Complex(real1, imag1)\n",
        "\n",
        "    # Запрос действительной и мнимой частей для второго числа\n",
        "    real2 = get_complex_input(\"действительную вторую\")\n",
        "    imag2 = get_complex_input(\"мнимую вторую\")\n",
        "    num2 = Complex(real2, imag2)\n",
        "\n",
        "    while True:\n",
        "        print(\"Выберите операцию: +, -, *, /\")\n",
        "        operation = input(\"Операция: \")\n",
        "\n",
        "        try:\n",
        "            if operation == '+':\n",
        "                result = num1 + num2\n",
        "            elif operation == '-':\n",
        "                result = num1 - num2\n",
        "            elif operation == '*':\n",
        "                result = num1 * num2\n",
        "            elif operation == '/':\n",
        "                result = num1 / num2\n",
        "            else:\n",
        "                print(\"Ошибка: Неверная операция. Пожалуйста, выберите из +, -, *, /.\")\n",
        "                continue\n",
        "\n",
        "            print(f\"Результат: {result}\")\n",
        "            break  # Выход из цикла после успешной операции\n",
        "        except ZeroDivisionError as e:\n",
        "            print(f\"Ошибка: {e}. Попробуйте другую операцию.\")\n",
        "        except Exception as e:\n",
        "            print(f\"Ошибка: {e}. Попробуйте снова.\")\n",
        "\n",
        "\n",
        "\n",
        "\n",
        "\n",
        "\n",
        "# Запуск калькулятора\n",
        "if __name__ == \"__main__\":\n",
        "    calculator()"
      ],
      "metadata": {
        "id": "0jlLyMIFHFLx",
        "colab": {
          "base_uri": "https://localhost:8080/"
        },
        "outputId": "481a39ab-1ca8-46f2-dd76-2929080ab01f"
      },
      "execution_count": null,
      "outputs": [
        {
          "output_type": "stream",
          "name": "stdout",
          "text": [
            "Комплексный калькулятор\n",
            "Введите действительную первую часть (например, 1.0): 2\n",
            "Введите мнимую первую часть (например, 1.0): 3\n",
            "Введите действительную вторую часть (например, 1.0): 2\n",
            "Введите мнимую вторую часть (например, 1.0): 4\n",
            "Выберите операцию: +, -, *, /\n",
            "Операция: 5\n",
            "Ошибка: Неверная операция. Пожалуйста, выберите из +, -, *, /.\n",
            "Выберите операцию: +, -, *, /\n",
            "Операция: +\n",
            "Результат: 4.0 + 7.0i\n"
          ]
        }
      ]
    },
    {
      "cell_type": "markdown",
      "source": [
        "2. Реализуйте класс связного списка `LinkedList`.\n",
        "(Вам потребуется реализовать вспомогательный класс `Node`,\n",
        "содержащий в себе ссылки на соседей, и свое значение. Тогда\n",
        "сам список содержит в себе лишь ссылку на первую вершину,\n",
        "и вспомогательные данные вроде текущей длины). Список\n",
        "должен поддерживать обращение по индексам, красиво печататься,\n",
        "выдавать длину через `len()` и иметь работающие методы\n",
        "`.pop()`, `.append()`. Также список должен поддерживать\n",
        "итерацию по нему. *Можете также добавить `.insert()` и\n",
        "`.pop()` по индексу."
      ],
      "metadata": {
        "id": "MJqP5UwjXYHn"
      }
    },
    {
      "cell_type": "code",
      "source": [
        "class Node:\n",
        "    def __init__(self, value):\n",
        "        self.value = value\n",
        "        self.next = None\n",
        "        self.prev = None\n",
        "\n",
        "\n",
        "class LinkedList:\n",
        "    def __init__(self):\n",
        "        self.head = None\n",
        "        self.tail = None\n",
        "        self.length = 0\n",
        "\n",
        "    def __len__(self):\n",
        "        return self.length\n",
        "\n",
        "    def __getitem__(self, index):\n",
        "        if index < 0 or index >= self.length:\n",
        "            raise IndexError(\"Индекс вне диапазона\")\n",
        "\n",
        "        current = self.head\n",
        "        for _ in range(index):\n",
        "            current = current.next\n",
        "        return current.value\n",
        "\n",
        "    def append(self, value):\n",
        "        new_node = Node(value)\n",
        "        if not self.head:  # Если список пуст\n",
        "            self.head = new_node\n",
        "            self.tail = new_node\n",
        "        else:\n",
        "            new_node.prev = self.tail\n",
        "            self.tail.next = new_node\n",
        "            self.tail = new_node\n",
        "        self.length += 1\n",
        "\n",
        "    def pop(self):\n",
        "        if not self.head:  # Если список пуст\n",
        "            raise IndexError(\"Попытка удалить из пустого списка\")\n",
        "\n",
        "        value = self.tail.value\n",
        "        if self.head == self.tail:  # Если один элемент в списке\n",
        "            self.head = None\n",
        "            self.tail = None\n",
        "        else:\n",
        "            self.tail = self.tail.prev\n",
        "            self.tail.next = None\n",
        "        self.length -= 1\n",
        "        return value\n",
        "\n",
        "    def insert(self, index, value):\n",
        "        if index < 0 or index > self.length:\n",
        "            raise IndexError(\"Индекс вне диапазона\")\n",
        "\n",
        "        new_node = Node(value)\n",
        "\n",
        "        if index == 0:  # Вставка в начало\n",
        "            if not self.head:  # Если список пуст\n",
        "                self.head = new_node\n",
        "                self.tail = new_node\n",
        "            else:\n",
        "                new_node.next = self.head\n",
        "                self.head.prev = new_node\n",
        "                self.head = new_node\n",
        "        elif index == self.length:  # Вставка в конец\n",
        "            self.append(value)\n",
        "            return\n",
        "        else:  # Вставка в середину\n",
        "            current = self.head\n",
        "            for _ in range(index):\n",
        "                current = current.next\n",
        "\n",
        "            new_node.prev = current.prev\n",
        "            new_node.next = current\n",
        "\n",
        "            if current.prev:\n",
        "                current.prev.next = new_node\n",
        "\n",
        "            current.prev = new_node\n",
        "\n",
        "            if index == 0:  # Если вставляем в начало, обновляем head\n",
        "                self.head = new_node\n",
        "\n",
        "        self.length += 1\n",
        "\n",
        "    def pop_at(self, index):\n",
        "        if index < 0 or index >= self.length:\n",
        "            raise IndexError(\"Индекс вне диапазона\")\n",
        "\n",
        "        if index == 0:  # Удаление первого элемента\n",
        "            value = self.head.value\n",
        "            self.head = self.head.next\n",
        "            if self.head:  # Если есть следующий элемент, обновляем его prev\n",
        "                self.head.prev = None\n",
        "            else:  # Если список стал пустым\n",
        "                self.tail = None\n",
        "            self.length -= 1\n",
        "            return value\n",
        "\n",
        "        current = self.head\n",
        "        for _ in range(index):\n",
        "            current = current.next\n",
        "\n",
        "        value = current.value\n",
        "\n",
        "        if current.prev:  # Обновляем указатели на соседей\n",
        "            current.prev.next = current.next\n",
        "\n",
        "        if current.next:  # Обновляем указатели на соседей\n",
        "            current.next.prev = current.prev\n",
        "\n",
        "        if current == self.tail:  # Если удаляем последний элемент, обновляем tail\n",
        "            self.tail = current.prev\n",
        "\n",
        "        self.length -= 1\n",
        "        return value\n",
        "\n",
        "    def __iter__(self):\n",
        "        current = self.head\n",
        "        while current:\n",
        "            yield current.value\n",
        "            current = current.next\n",
        "\n",
        "    def __str__(self):\n",
        "        values = [str(value) for value in self]\n",
        "        return \" -> \".join(values)\n",
        "\n",
        "\n",
        "# Пример использования:\n",
        "if __name__ == \"__main__\":\n",
        "    linked_list = LinkedList()\n",
        "    linked_list.append(1)\n",
        "    linked_list.append(2)\n",
        "    linked_list.append(3)\n",
        "\n",
        "    print(linked_list)  # Вывод: 1 -> 2 -> 3\n",
        "\n",
        "    linked_list.insert(1, 1.5)\n",
        "    print(linked_list)  # Вывод: 1 -> 1.5 -> 2 -> 3\n",
        "\n",
        "    print(linked_list.pop())  # Вывод: 3\n",
        "    print(linked_list)         # Вывод: 1 -> 1.5 -> 2\n",
        "\n",
        "    print(linked_list[1])      # Вывод: 1.5\n",
        "\n",
        "    linked_list.pop_at(0)\n",
        "    print(linked_list)         # Вывод: 1.5 -> 2\n",
        "\n",
        "    print(len(linked_list))     # Вывод: 2\n",
        "\n",
        "    for value in linked_list:\n",
        "        print(value)           # Вывод: 1.5 \\n 2\n"
      ],
      "metadata": {
        "colab": {
          "base_uri": "https://localhost:8080/"
        },
        "id": "XRNL1G_pv2ak",
        "outputId": "ddb78a03-4dfd-4f15-81be-b9cee814b7d4"
      },
      "execution_count": 1,
      "outputs": [
        {
          "output_type": "stream",
          "name": "stdout",
          "text": [
            "1 -> 2 -> 3\n",
            "1 -> 1.5 -> 2 -> 3\n",
            "3\n",
            "1 -> 1.5 -> 2\n",
            "1.5\n",
            "1.5 -> 2\n",
            "2\n",
            "1.5\n",
            "2\n"
          ]
        }
      ]
    },
    {
      "cell_type": "markdown",
      "source": [
        "3. Реализовать структуру наследования классов\n",
        "геометрических фигур *shape*. Каждый\n",
        "класс должен обладать методами `.area()`_ и\n",
        "`.perimeter()` для вычисления площади и\n",
        "периметра соответственно, а также метод `__str__()`. Среди обязательных для\n",
        "реализации структур: круг, треугольник,\n",
        "прямоугольник, квадрат, ромб. Для простоты часть фигур\n",
        "можно конструировать из точек,\n",
        "передающихся в порядке обхода фигуры по\n",
        "часовой стрелке."
      ],
      "metadata": {
        "id": "3-37uY3IXaWb"
      }
    },
    {
      "cell_type": "code",
      "source": [
        "import math\n",
        "\n",
        "class Shape:\n",
        "    def area(self):\n",
        "        raise NotImplementedError(\"This method should be overridden by subclasses\")\n",
        "\n",
        "    def perimeter(self):\n",
        "        raise NotImplementedError(\"This method should be overridden by subclasses\")\n",
        "\n",
        "    def __str__(self):\n",
        "        return self.__class__.__name__\n",
        "\n",
        "class Circle(Shape):\n",
        "    def __init__(self, radius):\n",
        "        self.radius = radius\n",
        "\n",
        "    def area(self):\n",
        "        return math.pi * (self.radius ** 2)\n",
        "\n",
        "    def perimeter(self):\n",
        "        return 2 * math.pi * self.radius\n",
        "\n",
        "    def __str__(self):\n",
        "        return f\"{super().__str__()}(radius={self.radius})\"\n",
        "\n",
        "class Triangle(Shape):\n",
        "    def __init__(self, a, b, c):\n",
        "        self.a = a\n",
        "        self.b = b\n",
        "        self.c = c\n",
        "\n",
        "    def area(self):\n",
        "        s = self.perimeter() / 2\n",
        "        return math.sqrt(s * (s - self.a) * (s - self.b) * (s - self.c))\n",
        "\n",
        "    def perimeter(self):\n",
        "        return self.a + self.b + self.c\n",
        "\n",
        "    def __str__(self):\n",
        "        return f\"{super().__str__()}(sides=({self.a}, {self.b}, {self.c}))\"\n",
        "\n",
        "class Rectangle(Shape):\n",
        "    def __init__(self, width, height):\n",
        "        self.width = width\n",
        "        self.height = height\n",
        "\n",
        "    def area(self):\n",
        "        return self.width * self.height\n",
        "\n",
        "    def perimeter(self):\n",
        "        return 2 * (self.width + self.height)\n",
        "\n",
        "    def __str__(self):\n",
        "        return f\"{super().__str__()}(width={self.width}, height={self.height})\"\n",
        "\n",
        "class Square(Rectangle):\n",
        "    def __init__(self, side):\n",
        "        super().__init__(side, side)\n",
        "\n",
        "    def __str__(self):\n",
        "        return f\"{super().__str__()}(side={self.width})\"\n",
        "\n",
        "class Rhombus(Shape):\n",
        "    def __init__(self, d1, d2):\n",
        "        self.d1 = d1\n",
        "        self.d2 = d2\n",
        "\n",
        "    def area(self):\n",
        "        return (self.d1 * self.d2) / 2\n",
        "\n",
        "    def perimeter(self):\n",
        "        side = math.sqrt((self.d1 / 2) ** 2 + (self.d2 / 2) ** 2)\n",
        "        return 4 * side\n",
        "\n",
        "    def __str__(self):\n",
        "        return f\"{super().__str__()}(d1={self.d1}, d2={self.d2})\"\n",
        "\n",
        "# Примеры использования\n",
        "shapes = [\n",
        "    Circle(radius=5),\n",
        "    Triangle(a=3, b=4, c=5),\n",
        "    Rectangle(width=4, height=6),\n",
        "    Square(side=3),\n",
        "    Rhombus(d1=5, d2=10)\n",
        "]\n",
        "\n",
        "for shape in shapes:\n",
        "    print(shape)\n",
        "    print(f\"Area: {shape.area()}\")\n",
        "    print(f\"Perimeter: {shape.perimeter()}n\")\n"
      ],
      "metadata": {
        "colab": {
          "base_uri": "https://localhost:8080/"
        },
        "id": "4mkGDVudz3b0",
        "outputId": "e2393c84-5879-4f71-a81c-840ffd5818de"
      },
      "execution_count": 4,
      "outputs": [
        {
          "output_type": "stream",
          "name": "stdout",
          "text": [
            "Circle(radius=5)\n",
            "Area: 78.53981633974483\n",
            "Perimeter: 31.41592653589793n\n",
            "Triangle(sides=(3, 4, 5))\n",
            "Area: 6.0\n",
            "Perimeter: 12n\n",
            "Rectangle(width=4, height=6)\n",
            "Area: 24\n",
            "Perimeter: 20n\n",
            "Square(width=3, height=3)(side=3)\n",
            "Area: 9\n",
            "Perimeter: 12n\n",
            "Rhombus(d1=5, d2=10)\n",
            "Area: 25.0\n",
            "Perimeter: 22.360679774997898n\n"
          ]
        }
      ]
    }
  ],
  "metadata": {
    "colab": {
      "toc_visible": true,
      "provenance": []
    },
    "kernelspec": {
      "display_name": "Python 3",
      "name": "python3"
    }
  },
  "nbformat": 4,
  "nbformat_minor": 0
}
