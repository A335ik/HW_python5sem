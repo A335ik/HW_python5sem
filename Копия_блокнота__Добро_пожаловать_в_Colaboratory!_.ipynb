{
  "cells": [
    {
      "cell_type": "markdown",
      "source": [
        "1. Доработайте класс комплексного числа из прошлого\n",
        "занятия: переопределите математические\n",
        "операторы (__+, -, /, *, ==__), так, чтобы они\n",
        "работали с другими комплексными и со стандартными\n",
        "числами. Добейтесь правильной работы с комплексным\n",
        "числом функций `print()`, `abs()`, а также\n",
        "реализуйте `getter` и `setter`\n",
        "с использованием декоратора `@property`. Добавьте\n",
        "выбросы исключений при некорректном использовании\n",
        "вашего числа, например: выбросом `ValueError` при вводе\n",
        "некорректных значений в `setter` класса, выбросом своего исключения в\n",
        "случае попытки перевода в экспоненциальную\n",
        "форму, когда это невозможно. Поверх напишите программу\n",
        "калькулятор, принимающую у пользователя два комплексных\n",
        "числа и проводящую с ними арифметические операции на\n",
        "выбор пользователя. Калькулятор должен уметь ловить и\n",
        "обрабатывать исключения, не роняя программу,\n",
        "а объясняя пользователю, что пошло не так."
      ],
      "metadata": {
        "id": "FEOWFsUVXI2X"
      }
    },
    {
      "cell_type": "code",
      "source": [
        "import math\n",
        "class Complex:\n",
        "\n",
        "    def __init__(self, a, b):\n",
        "        self.a = a\n",
        "        self.b = b\n",
        "\n",
        "    def __repr__(self):\n",
        "        if self.b == 0:\n",
        "            return str(self.a)\n",
        "        elif self.a == 0 and self.b != 0:\n",
        "            if self.b == 1:\n",
        "                return 'i'\n",
        "            else:\n",
        "                return str(self.b) + 'i'\n",
        "        else:\n",
        "            if self.b == 1:\n",
        "                return str(self.a) + ' + i'\n",
        "            else:\n",
        "                return str(self.a) + ' + ' + str(self.b) + 'i'\n",
        "\n",
        "    @property\n",
        "    def real(self):\n",
        "        return self.a\n",
        "\n",
        "    @real.setter\n",
        "    def real(self, value):\n",
        "        if not isinstance(value, (int, float)):\n",
        "            raise ValueError(\"Должно быть числом (int или float)\")\n",
        "        self.a = value\n",
        "\n",
        "    @property\n",
        "    def imag(self):\n",
        "        return self.b\n",
        "\n",
        "    @imag.setter\n",
        "    def imag(self, value):\n",
        "        if not isinstance(value, (int, float)):\n",
        "            raise ValueError(\"Должно быть числом (int или float)\")\n",
        "        self.b = value\n",
        "\n",
        "\n",
        "    def __add__(self, other):\n",
        "        if isinstance(other, Complex):\n",
        "            return Complex(self.a + other.a, self.b + other.b)\n",
        "        if isinstance(other, (int, float)):\n",
        "            return Complex(self.a + other, self.b)\n",
        "        raise NotImplementedError\n",
        "\n",
        "    def __sub__(self, other):\n",
        "        if isinstance(other, Complex):\n",
        "            return Complex(self.a - other.a, self.b - other.b)\n",
        "        if isinstance(other, (int, float)):\n",
        "            return Complex(self.a - other, self.b)\n",
        "        raise NotImplementedError\n",
        "\n",
        "    def __mul__(self, other):\n",
        "        if isinstance(other, Complex):\n",
        "            return Complex(self.a*other.a - self.b*other.b, self.a*other.b + self.b*other.a)\n",
        "        if isinstance(other, (int, float)):\n",
        "            return Complex(self.a*other, self.b*other)\n",
        "        raise NotImplementedError\n",
        "\n",
        "    def __truediv__(self, other):\n",
        "        if isinstance(other, Complex):\n",
        "            return Complex((self.a*other.a + self.b*other.b)/(other.a**2 + other.b**2), (self.b*other.a - self.a*other.b)/(other.a**2 + other.b**2))\n",
        "        if isinstance(other, (int, float)):\n",
        "            return Complex(self.a/other, self.b/other)\n",
        "        raise NotImplementedError\n",
        "\n",
        "\n",
        "    def __abs__(self):\n",
        "        return sqrt(self.a**2 + self.b**2)\n",
        "\n",
        "\n",
        "    def toexp(self): #всегда можно представить\n",
        "        if self.b != 0:\n",
        "            return (str(math.sqrt(self.a**2+self.b**2))+'e^'+str(math.atan(self.b/self.a)))\n",
        "        elif self.a>0:\n",
        "            return (str(abs(self.a))+'e^0')\n",
        "        else:\n",
        "            return (str(abs(self.a))+'e^'+str(math.pi))"
      ],
      "metadata": {
        "id": "FlN3tuEmBJSu"
      },
      "execution_count": 139,
      "outputs": []
    },
    {
      "cell_type": "code",
      "source": [
        "a = Complex(1, 2)\n",
        "b = Complex(2, 1)\n",
        "real = Complex(5, 0)"
      ],
      "metadata": {
        "colab": {
          "base_uri": "https://localhost:8080/"
        },
        "id": "yvZq3LLRZS-6",
        "outputId": "24408f87-3e85-45d8-b848-06c6b43adbe5"
      },
      "execution_count": null,
      "outputs": [
        {
          "output_type": "stream",
          "name": "stdout",
          "text": [
            "1 + 2i 2 + i 5\n"
          ]
        }
      ]
    },
    {
      "cell_type": "code",
      "source": [
        "a, b, real"
      ],
      "metadata": {
        "colab": {
          "base_uri": "https://localhost:8080/"
        },
        "id": "R-l6R17uZcp7",
        "outputId": "ef1f7efb-9321-4a58-ecf8-6cbea7112b22"
      },
      "execution_count": null,
      "outputs": [
        {
          "output_type": "execute_result",
          "data": {
            "text/plain": [
              "(1 + 2i, 2 + i)"
            ]
          },
          "metadata": {},
          "execution_count": 128
        }
      ]
    },
    {
      "cell_type": "code",
      "source": [
        "a + b, a - b, a * b, a / b"
      ],
      "metadata": {
        "colab": {
          "base_uri": "https://localhost:8080/"
        },
        "id": "0ICwfcsoZyQM",
        "outputId": "32817d79-1ad1-4e9e-a989-25c6c0b67021"
      },
      "execution_count": null,
      "outputs": [
        {
          "output_type": "execute_result",
          "data": {
            "text/plain": [
              "(3 + 3i, -1 + i, 5i, 0.8 + 0.6i)"
            ]
          },
          "metadata": {},
          "execution_count": 129
        }
      ]
    },
    {
      "cell_type": "code",
      "source": [
        "abs(a), abs(b)"
      ],
      "metadata": {
        "colab": {
          "base_uri": "https://localhost:8080/"
        },
        "id": "s439P8sjZ0Zf",
        "outputId": "38836d1e-3e73-4b40-e8d7-6d3170e59e31"
      },
      "execution_count": null,
      "outputs": [
        {
          "output_type": "execute_result",
          "data": {
            "text/plain": [
              "(2.23606797749979, 2.23606797749979)"
            ]
          },
          "metadata": {},
          "execution_count": 130
        }
      ]
    },
    {
      "cell_type": "code",
      "source": [
        "a.real"
      ],
      "metadata": {
        "colab": {
          "base_uri": "https://localhost:8080/"
        },
        "id": "EMsFjXXTZ3Md",
        "outputId": "daeb5272-fdd7-4300-d27a-9e49ac97545d"
      },
      "execution_count": null,
      "outputs": [
        {
          "output_type": "execute_result",
          "data": {
            "text/plain": [
              "1"
            ]
          },
          "metadata": {},
          "execution_count": 131
        }
      ]
    },
    {
      "cell_type": "code",
      "source": [
        "a.real = 3\n",
        "print(a)"
      ],
      "metadata": {
        "colab": {
          "base_uri": "https://localhost:8080/"
        },
        "id": "kE1If3DRZ6rH",
        "outputId": "8bbc9f21-d1cb-43b0-e957-456f78fba0aa"
      },
      "execution_count": null,
      "outputs": [
        {
          "output_type": "stream",
          "name": "stdout",
          "text": [
            "3 + 2i\n"
          ]
        }
      ]
    },
    {
      "cell_type": "code",
      "source": [
        "\n",
        "def get_complex_input(part):\n",
        "    while True:\n",
        "        try:\n",
        "            value = float(input(f\"Введите {part} часть (например, 1.0): \"))\n",
        "            return value\n",
        "        except ValueError:\n",
        "            print(f\"Ошибка: Введите корректное число для {part} части.\")\n",
        "\n",
        "def calculator():\n",
        "    print(\"Комплексный калькулятор\")\n",
        "\n",
        "    # Запрос действительной и мнимой частей для первого числа\n",
        "    real1 = get_complex_input(\"действительную первую\")\n",
        "    imag1 = get_complex_input(\"мнимую первую\")\n",
        "    num1 = Complex(real1, imag1)\n",
        "\n",
        "    # Запрос действительной и мнимой частей для второго числа\n",
        "    real2 = get_complex_input(\"действительную вторую\")\n",
        "    imag2 = get_complex_input(\"мнимую вторую\")\n",
        "    num2 = Complex(real2, imag2)\n",
        "\n",
        "    while True:\n",
        "        print(\"Выберите операцию: +, -, *, /\")\n",
        "        operation = input(\"Операция: \")\n",
        "\n",
        "        try:\n",
        "            if operation == '+':\n",
        "                result = num1 + num2\n",
        "            elif operation == '-':\n",
        "                result = num1 - num2\n",
        "            elif operation == '*':\n",
        "                result = num1 * num2\n",
        "            elif operation == '/':\n",
        "                result = num1 / num2\n",
        "            else:\n",
        "                print(\"Ошибка: Неверная операция. Пожалуйста, выберите из +, -, *, /.\")\n",
        "                continue\n",
        "\n",
        "            print(f\"Результат: {result}\")\n",
        "            break  # Выход из цикла после успешной операции\n",
        "        except ZeroDivisionError as e:\n",
        "            print(f\"Ошибка: {e}. Попробуйте другую операцию.\")\n",
        "        except Exception as e:\n",
        "            print(f\"Ошибка: {e}. Попробуйте снова.\")\n",
        "\n",
        "\n",
        "\n",
        "\n",
        "\n",
        "\n",
        "# Запуск калькулятора\n",
        "if __name__ == \"__main__\":\n",
        "    calculator()"
      ],
      "metadata": {
        "id": "0jlLyMIFHFLx",
        "colab": {
          "base_uri": "https://localhost:8080/"
        },
        "outputId": "481a39ab-1ca8-46f2-dd76-2929080ab01f"
      },
      "execution_count": 140,
      "outputs": [
        {
          "output_type": "stream",
          "name": "stdout",
          "text": [
            "Комплексный калькулятор\n",
            "Введите действительную первую часть (например, 1.0): 2\n",
            "Введите мнимую первую часть (например, 1.0): 3\n",
            "Введите действительную вторую часть (например, 1.0): 2\n",
            "Введите мнимую вторую часть (например, 1.0): 4\n",
            "Выберите операцию: +, -, *, /\n",
            "Операция: 5\n",
            "Ошибка: Неверная операция. Пожалуйста, выберите из +, -, *, /.\n",
            "Выберите операцию: +, -, *, /\n",
            "Операция: +\n",
            "Результат: 4.0 + 7.0i\n"
          ]
        }
      ]
    },
    {
      "cell_type": "markdown",
      "source": [
        "2. Реализуйте класс связного списка `LinkedList`.\n",
        "(Вам потребуется реализовать вспомогательный класс `Node`,\n",
        "содержащий в себе ссылки на соседей, и свое значение. Тогда\n",
        "сам список содержит в себе лишь ссылку на первую вершину,\n",
        "и вспомогательные данные вроде текущей длины). Список\n",
        "должен поддерживать обращение по индексам, красиво печататься,\n",
        "выдавать длину через `len()` и иметь работающие методы\n",
        "`.pop()`, `.append()`. Также список должен поддерживать\n",
        "итерацию по нему. *Можете также добавить `.insert()` и\n",
        "`.pop()` по индексу."
      ],
      "metadata": {
        "id": "MJqP5UwjXYHn"
      }
    },
    {
      "cell_type": "markdown",
      "source": [
        "3. Реализовать структуру наследования классов\n",
        "геометрических фигур *shape*. Каждый\n",
        "класс должен обладать методами `.area()`_ и\n",
        "`.perimeter()` для вычисления площади и\n",
        "периметра соответственно, а также метод `__str__()`. Среди обязательных для\n",
        "реализации структур: круг, треугольник,\n",
        "прямоугольник, квадрат, ромб. Для простоты часть фигур\n",
        "можно конструировать из точек,\n",
        "передающихся в порядке обхода фигуры по\n",
        "часовой стрелке."
      ],
      "metadata": {
        "id": "3-37uY3IXaWb"
      }
    }
  ],
  "metadata": {
    "colab": {
      "toc_visible": true,
      "provenance": []
    },
    "kernelspec": {
      "display_name": "Python 3",
      "name": "python3"
    }
  },
  "nbformat": 4,
  "nbformat_minor": 0
}